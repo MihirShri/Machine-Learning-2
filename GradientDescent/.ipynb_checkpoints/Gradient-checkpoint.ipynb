{
 "cells": [
  {
   "cell_type": "code",
   "execution_count": 18,
   "metadata": {},
   "outputs": [],
   "source": [
    "import numpy as np\n",
    "import matplotlib.pyplot as plt"
   ]
  },
  {
   "cell_type": "code",
   "execution_count": 19,
   "metadata": {},
   "outputs": [],
   "source": [
    "x=np.array([1,2,3,4,5])            #y=2x+3 is the linear eqaution\n",
    "y=np.array([5,7,9,11,13])"
   ]
  },
  {
   "cell_type": "code",
   "execution_count": null,
   "metadata": {},
   "outputs": [],
   "source": [
    "%matplotlib inline\n",
    "def gradient_descent(x,y):\n",
    "    m_curr=b_curr=0\n",
    "    iteration =1000\n",
    "    n=len(x)\n",
    "    learning_rate=0.01      #trial and error\n",
    "    plt.plot(x,y,color='red',marker='+',linewidth='5')\n",
    "    for i in range(iteration):\n",
    "        yp=m_curr*x+ b_curr\n",
    "        plt.scatter(x,yp,color='green')\n",
    "        cost=sum([val**2 for val in (y-yp)])*(1/n)\n",
    "        md=-(2/n)*sum(x*(y-yp))\n",
    "        bd=-(2/n)*sum(y-yp)\n",
    "        m_curr=m_curr-learning_rate*md\n",
    "        b_curr=b_curr-learning_rate*bd\n",
    "        #print(\"m {}, b {}, cost {}, iteration {}\".format(m_curr,b_curr,cost,i))\n",
    "    pass\n",
    "        "
   ]
  },
  {
   "cell_type": "code",
   "execution_count": null,
   "metadata": {},
   "outputs": [],
   "source": [
    "gradient_descent(x,y)"
   ]
  },
  {
   "cell_type": "code",
   "execution_count": null,
   "metadata": {},
   "outputs": [],
   "source": []
  }
 ],
 "metadata": {
  "kernelspec": {
   "display_name": "Python 3",
   "language": "python",
   "name": "python3"
  },
  "language_info": {
   "codemirror_mode": {
    "name": "ipython",
    "version": 3
   },
   "file_extension": ".py",
   "mimetype": "text/x-python",
   "name": "python",
   "nbconvert_exporter": "python",
   "pygments_lexer": "ipython3",
   "version": "3.8.5"
  }
 },
 "nbformat": 4,
 "nbformat_minor": 4
}
